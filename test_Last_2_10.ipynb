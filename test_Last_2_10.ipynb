{
 "cells": [
  {
   "cell_type": "code",
   "execution_count": 3,
   "metadata": {},
   "outputs": [
    {
     "data": {
      "text/plain": [
       "['video_1_1080p.mp4', 'video_1_720p.mp4']"
      ]
     },
     "execution_count": 3,
     "metadata": {},
     "output_type": "execute_result"
    }
   ],
   "source": [
    "# TODO: load videos \n",
    "import os \n",
    "video_files = os.listdir(\"./sample_video\")\n",
    "video_files "
   ]
  },
  {
   "cell_type": "code",
   "execution_count": 8,
   "metadata": {},
   "outputs": [
    {
     "data": {
      "text/plain": [
       "'/media/sasika/My documents/Test/IP Project/Iris/MSLTNet/sample_video/video_1_720p.mp4'"
      ]
     },
     "execution_count": 8,
     "metadata": {},
     "output_type": "execute_result"
    }
   ],
   "source": [
    "video_file_path = os.getcwd() + \"/\" + \"sample_video\" + \"/\" + video_files[1]\n",
    "video_file_path"
   ]
  },
  {
   "cell_type": "code",
   "execution_count": null,
   "metadata": {},
   "outputs": [
    {
     "ename": "",
     "evalue": "",
     "output_type": "error",
     "traceback": [
      "\u001b[1;31mRunning cells with 'mslt (Python 3.7.16)' requires the ipykernel package.\n",
      "\u001b[1;31mRun the following command to install 'ipykernel' into the Python environment. \n",
      "\u001b[1;31mCommand: 'conda install -n mslt ipykernel --update-deps --force-reinstall'"
     ]
    }
   ],
   "source": [
    "# TODO: split the video into frames into a folder  with the folder name with the video name\n",
    "import cv2\n",
    "\n",
    "def video_to_frames(video_file_path, folder_name):\n",
    "    video = cv2.VideoCapture(video_file_path)\n",
    "    success, image = video.read()\n",
    "    count = 0\n",
    "    while success:\n",
    "        cv2.imwrite(f\"{folder_name}/{video_file_path}_{count}.jpg\", image)\n",
    "        success, image = video.read()\n",
    "        count += 1\n",
    "    video.release()\n",
    "\n",
    "vide\n"
   ]
  },
  {
   "cell_type": "code",
   "execution_count": null,
   "metadata": {},
   "outputs": [
    {
     "ename": "",
     "evalue": "",
     "output_type": "error",
     "traceback": [
      "\u001b[1;31mRunning cells with 'mslt (Python 3.7.16)' requires the ipykernel package.\n",
      "\u001b[1;31mRun the following command to install 'ipykernel' into the Python environment. \n",
      "\u001b[1;31mCommand: 'conda install -n mslt ipykernel --update-deps --force-reinstall'"
     ]
    }
   ],
   "source": [
    "\n",
    "# TODO: Process video \n"
   ]
  },
  {
   "cell_type": "code",
   "execution_count": null,
   "metadata": {},
   "outputs": [
    {
     "ename": "",
     "evalue": "",
     "output_type": "error",
     "traceback": [
      "\u001b[1;31mRunning cells with 'mslt (Python 3.7.16)' requires the ipykernel package.\n",
      "\u001b[1;31mRun the following command to install 'ipykernel' into the Python environment. \n",
      "\u001b[1;31mCommand: 'conda install -n mslt ipykernel --update-deps --force-reinstall'"
     ]
    }
   ],
   "source": [
    "\n",
    "# TODO: Save the prcessed video image frames into a folder with the video_name+ \"processed\"\n"
   ]
  },
  {
   "cell_type": "code",
   "execution_count": null,
   "metadata": {},
   "outputs": [],
   "source": [
    "\n",
    "# TODO: Then save the processed video into a folder with the video_name+ \"processed\"\n"
   ]
  }
 ],
 "metadata": {
  "kernelspec": {
   "display_name": "mslt",
   "language": "python",
   "name": "python3"
  },
  "language_info": {
   "codemirror_mode": {
    "name": "ipython",
    "version": 3
   },
   "file_extension": ".py",
   "mimetype": "text/x-python",
   "name": "python",
   "nbconvert_exporter": "python",
   "pygments_lexer": "ipython3",
   "version": "3.8.10"
  }
 },
 "nbformat": 4,
 "nbformat_minor": 2
}
